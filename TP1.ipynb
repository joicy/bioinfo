{
  "nbformat": 4,
  "nbformat_minor": 0,
  "metadata": {
    "colab": {
      "name": "TP1.ipynb",
      "provenance": [],
      "authorship_tag": "ABX9TyOGdn2GM+ezFL3A3WD8/xop",
      "include_colab_link": true
    },
    "kernelspec": {
      "name": "python3",
      "display_name": "Python 3"
    }
  },
  "cells": [
    {
      "cell_type": "markdown",
      "metadata": {
        "id": "view-in-github",
        "colab_type": "text"
      },
      "source": [
        "<a href=\"https://colab.research.google.com/github/joicy/bioinfo-ufmg/blob/main/TP1.ipynb\" target=\"_parent\"><img src=\"https://colab.research.google.com/assets/colab-badge.svg\" alt=\"Open In Colab\"/></a>"
      ]
    },
    {
      "cell_type": "markdown",
      "metadata": {
        "id": "pr_ornkZ6tAd"
      },
      "source": [
        "# Trabalho Prático 1: Alinhamento de Sequências\n"
      ]
    },
    {
      "cell_type": "code",
      "metadata": {
        "id": "PoJ30aM86jwe"
      },
      "source": [
        "# Imports\n"
      ],
      "execution_count": null,
      "outputs": []
    },
    {
      "cell_type": "markdown",
      "metadata": {
        "id": "PzLUlYse7RjB"
      },
      "source": [
        "## 1 - Alinhando sequências idênticas e pequenas"
      ]
    },
    {
      "cell_type": "code",
      "metadata": {
        "id": "MjTl1boV71xA"
      },
      "source": [
        ""
      ],
      "execution_count": null,
      "outputs": []
    },
    {
      "cell_type": "markdown",
      "metadata": {
        "id": "7YuXVmzK72Tl"
      },
      "source": [
        "## 2 - Fazendo pequenas alterações na sequência\n",
        "*Faça pequenas alterações na sequência substituindo uma glutamina (Q) por um glutamato (E).*"
      ]
    },
    {
      "cell_type": "code",
      "metadata": {
        "id": "kXk_ZjNN8HnJ"
      },
      "source": [
        ""
      ],
      "execution_count": null,
      "outputs": []
    },
    {
      "cell_type": "markdown",
      "metadata": {
        "id": "r_nxQcve8Ye4"
      },
      "source": [
        "## 3 - Alinhando sequencias maiores e de comprimentos diferentes\n",
        "*Exemplo: DRQTAQAAGTTTIT e DRNTAQLLGTDTT*"
      ]
    },
    {
      "cell_type": "code",
      "metadata": {
        "id": "_vS9LA2w8x_4"
      },
      "source": [
        ""
      ],
      "execution_count": null,
      "outputs": []
    },
    {
      "cell_type": "markdown",
      "metadata": {
        "id": "r2i-OaZi8ylG"
      },
      "source": [
        "## 4 - Alinhando sequências reais do SARS-CoV-2"
      ]
    },
    {
      "cell_type": "code",
      "metadata": {
        "id": "Owf0FEAp9E1j"
      },
      "source": [
        ""
      ],
      "execution_count": null,
      "outputs": []
    },
    {
      "cell_type": "markdown",
      "metadata": {
        "id": "Pn4YlmF89F5M"
      },
      "source": [
        "## Extras:##\n"
      ]
    },
    {
      "cell_type": "code",
      "metadata": {
        "id": "EtCb7cEf9Ld6"
      },
      "source": [
        ""
      ],
      "execution_count": null,
      "outputs": []
    }
  ]
}